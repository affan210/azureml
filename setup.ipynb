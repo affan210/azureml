{
 "cells": [
  {
   "cell_type": "code",
   "execution_count": null,
   "metadata": {},
   "outputs": [],
   "source": [
    "# Now create Workspace\n",
    "# Create Compute Target\n",
    "# Create Experiment\n",
    "# Create environment to execute your code\n",
    "# Register model in workspace\n",
    "# Deploying the model\n",
    "# Prepare your test data\n",
    "# Real time scoring using RestAPI Call"
   ]
  },
  {
   "cell_type": "code",
   "execution_count": null,
   "metadata": {},
   "outputs": [],
   "source": [
    "from azureml.core import Workspace, ComputeTarget, Datastore, Dataset, Experiment\n",
    "from azureml.core.compute import AmlCompute\n",
    "from azure.ai.ml import MLClient\n",
    "from azure.identity import DefaultAzureCredential"
   ]
  },
  {
   "cell_type": "code",
   "execution_count": null,
   "metadata": {},
   "outputs": [],
   "source": [
    "# #details of your AML workspace\n",
    "subscription_id = \"0f644ff4-434a-4446-a414-16ddb2b713ee\"\n",
    "resource_group = \"rg-sbihackathon\"\n",
    "workspace = \"ml-demo-explore\"\n",
    "\n",
    "aml_compute_target = \"azureml-train-cluster-01\" #ALL SMALL LETTER, NO underscore, 16ws long only.\n",
    "experiment_name= 'demo_expirement'"
   ]
  },
  {
   "cell_type": "code",
   "execution_count": null,
   "metadata": {},
   "outputs": [],
   "source": [
    "\n",
    "ml_client = MLClient(\n",
    "    DefaultAzureCredential(), subscription_id, resource_group, workspace\n",
    ")\n",
    "try:\n",
    "    ws = Workspace.from_config() #fetches details from 'config.json'\n",
    "    # #alternate way to configure workspace\n",
    "    # ws = Workspace.get(name='0f644ff4-434a-4446-a414-16ddb2b713ee',\n",
    "    #                     subscription_id='rg-sbihackathon',\n",
    "    #                     resource_group='ml-demo-explore')\n",
    "    \n",
    "    print('Workspace already exist!')\n",
    "    # print('Workspace already exist!',ws, sep='\\n')\n",
    "    print('\\nCompute Targets:')\n",
    "    if ws.compute_targets != {} or len(ws.compute_targets) != 0:\n",
    "        for compute_name in ws.compute_targets:\n",
    "            compute = ws.compute_targets[compute_name]\n",
    "            # compute = ComputeTarget._get(ws, compute_name)\n",
    "            print(\"\\t\",compute.name, \":\", compute.type)\n",
    "    else:\n",
    "        print(\"\\tNone\")\n",
    "\n",
    "    print('Datastores:')\n",
    "    if ws.datastores != {} or len(ws.datastores) != 0:\n",
    "        for datastore_name in ws.datastores:\n",
    "            # datastore = ws.datastores[datastore_name]\n",
    "            datastore = Datastore.get(ws, datastore_name)\n",
    "            print(\"\\t\",datastore.name, ':', datastore.datastore_type)\n",
    "    else:\n",
    "        print(\"\\tNone\")\n",
    "        \n",
    "    print('Datasets:')\n",
    "    if len(list(ws.datasets.keys())) != 0:\n",
    "        for dataset_name in list(ws.datasets.keys()):\n",
    "            dataset = Dataset.get_by_name(ws, dataset_name)\n",
    "            print('\\t',dataset.name)\n",
    "    else:\n",
    "        print(\"\\tNone\")\n",
    "    \n",
    "    print('Experiments:')\n",
    "    # print(ws.experiments)\n",
    "    if ws.experiments != {} or len(ws.experiments) != 0:\n",
    "        for experiment_name in ws.experiments:\n",
    "            # experiment = Experiment._get_base_info_dict() (ws, experiment_name)\n",
    "            experiment = ws.experiments[experiment_name]\n",
    "            print(\"\\t\",experiment.name, ':', experiment.workspace.name)\n",
    "    else:\n",
    "        print(\"\\tNone\")\n",
    "        \n",
    "except Exception as e:\n",
    "    print(\"Exception\", e)\n",
    "    # ws=Workspace.create(workspace_name, \n",
    "    #                 resource_group=resource_name,\n",
    "    #                 create_resource_group=True,\n",
    "    #                 subscription_id=subscriptionID,\n",
    "    #                 location=\"East US\")\n",
    "    # ws.write_config('.azureml')\n",
    "    \n",
    "print(\"\\n\",ws, sep='\\n')"
   ]
  },
  {
   "cell_type": "code",
   "execution_count": null,
   "metadata": {},
   "outputs": [],
   "source": [
    "# Create Compute Target\n",
    "from azureml.core.compute_target import ComputeTargetException\n",
    "\n",
    "try:\n",
    "    aml_compute = AmlCompute(ws, aml_compute_target)\n",
    "    print(\"This Compute Target already exist.\")\n",
    "    \n",
    "except ComputeTargetException as ComputeNotFound:\n",
    "    print(ComputeNotFound.message)\n",
    "    \n",
    "    print(\"Creating new ComputeTarget :\",aml_compute_target)\n",
    "    provisioning_config = AmlCompute.provisioning_configuration(vm_size = \"STANDARD_D2_V2\",\n",
    "                                                            min_nodes = 1, \n",
    "                                                            max_nodes = 4,\n",
    "                                                            idle_seconds_before_scaledown=3000)    \n",
    "    # aml_compute = ComputeTarget.create(ws, aml_compute_target, provisioning_config)\n",
    "    aml_compute.wait_for_completion(show_output=True, min_node_count=None, timeout_in_minutes=20)\n",
    "except Exception as e:\n",
    "    print(e)\n",
    "    \n",
    "print(\"Done\")"
   ]
  },
  {
   "cell_type": "code",
   "execution_count": null,
   "metadata": {},
   "outputs": [],
   "source": []
  },
  {
   "cell_type": "code",
   "execution_count": null,
   "metadata": {},
   "outputs": [],
   "source": []
  }
 ],
 "metadata": {
  "kernelspec": {
   "display_name": "azure-ml",
   "language": "python",
   "name": "python3"
  },
  "language_info": {
   "codemirror_mode": {
    "name": "ipython",
    "version": 3
   },
   "file_extension": ".py",
   "mimetype": "text/x-python",
   "name": "python",
   "nbconvert_exporter": "python",
   "pygments_lexer": "ipython3",
   "version": "3.10.9"
  },
  "orig_nbformat": 4
 },
 "nbformat": 4,
 "nbformat_minor": 2
}

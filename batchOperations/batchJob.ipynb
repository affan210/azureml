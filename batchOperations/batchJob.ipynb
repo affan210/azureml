{
 "cells": [
  {
   "cell_type": "code",
   "execution_count": 1,
   "metadata": {},
   "outputs": [
    {
     "name": "stderr",
     "output_type": "stream",
     "text": [
      "Failure while loading azureml_run_type_providers. Failed to load entrypoint automl = azureml.train.automl.run:AutoMLRun._from_run_dto with exception (packaging 23.0 (c:\\users\\1000059312\\python\\miniconda3\\envs\\azure-ml\\lib\\site-packages), Requirement.parse('packaging<22.0,>=20.0'), {'azureml-core'}).\n",
      "Failure while loading azureml_run_type_providers. Failed to load entrypoint hyperdrive = azureml.train.hyperdrive:HyperDriveRun._from_run_dto with exception (packaging 23.0 (c:\\users\\1000059312\\python\\miniconda3\\envs\\azure-ml\\lib\\site-packages), Requirement.parse('packaging<22.0,>=20.0'), {'azureml-core'}).\n",
      "Failure while loading azureml_run_type_providers. Failed to load entrypoint azureml.scriptrun = azureml.core.script_run:ScriptRun._from_run_dto with exception (packaging 23.0 (c:\\users\\1000059312\\python\\miniconda3\\envs\\azure-ml\\lib\\site-packages), Requirement.parse('packaging<22.0,>=20.0')).\n",
      "Failure while loading azureml_run_type_providers. Failed to load entrypoint azureml.PipelineRun = azureml.pipeline.core.run:PipelineRun._from_dto with exception (packaging 23.0 (c:\\users\\1000059312\\python\\miniconda3\\envs\\azure-ml\\lib\\site-packages), Requirement.parse('packaging<22.0,>=20.0'), {'azureml-core'}).\n",
      "Failure while loading azureml_run_type_providers. Failed to load entrypoint azureml.ReusedStepRun = azureml.pipeline.core.run:StepRun._from_reused_dto with exception (packaging 23.0 (c:\\users\\1000059312\\python\\miniconda3\\envs\\azure-ml\\lib\\site-packages), Requirement.parse('packaging<22.0,>=20.0'), {'azureml-core'}).\n",
      "Failure while loading azureml_run_type_providers. Failed to load entrypoint azureml.StepRun = azureml.pipeline.core.run:StepRun._from_dto with exception (packaging 23.0 (c:\\users\\1000059312\\python\\miniconda3\\envs\\azure-ml\\lib\\site-packages), Requirement.parse('packaging<22.0,>=20.0'), {'azureml-core'}).\n"
     ]
    }
   ],
   "source": [
    "from azureml.core import Workspace\n",
    "# from azureml.core.webservice import BatchEndpoint #didn't work\n",
    "# from azure.ai.ml.entities import BatchEndpoint\n",
    "\n",
    "from azure.ai.ml.entities import BatchEndpoint, BatchDeployment, Model, AmlCompute, Data, BatchRetrySettings\n",
    "from azure.ai.ml.constants import AssetTypes, BatchDeploymentOutputAction\n",
    "from azure.identity import DefaultAzureCredential"
   ]
  },
  {
   "cell_type": "code",
   "execution_count": 2,
   "metadata": {},
   "outputs": [],
   "source": [
    "from azure.ai.ml import MLClient, Input\n",
    "\n",
    "subscription_id = \"0f644ff4-434a-4446-a414-16ddb2b713ee\"\n",
    "resource_group = \"rg-AIML\"\n",
    "workspace = \"ws-azureml\"\n",
    "\n",
    "ml_client = MLClient(DefaultAzureCredential(), subscription_id, resource_group, workspace)"
   ]
  },
  {
   "cell_type": "code",
   "execution_count": null,
   "metadata": {},
   "outputs": [],
   "source": [
    "# from dotenv import load_dotenv\n",
    "\n",
    "# load_dotenv(\".env\")\n",
    "\n",
    "# from azure.identity import DefaultAzureCredential\n",
    "\n",
    "# credential = DefaultAzureCredential()\n",
    "# # Check if given credential can get token successfully.\n",
    "# credential.get_token(\"https://management.azure.com/.default\")"
   ]
  },
  {
   "cell_type": "code",
   "execution_count": 5,
   "metadata": {},
   "outputs": [
    {
     "name": "stderr",
     "output_type": "stream",
     "text": [
      "Found the config file in: .\\config.json\n"
     ]
    },
    {
     "name": "stdout",
     "output_type": "stream",
     "text": [
      "MLClient(credential=<azure.identity._credentials.default.DefaultAzureCredential object at 0x0000021BA0873D90>,\n",
      "         subscription_id=0f644ff4-434a-4446-a414-16ddb2b713ee,\n",
      "         resource_group_name=rg-AIML,\n",
      "         workspace_name=ws-azureml)\n"
     ]
    }
   ],
   "source": [
    "try:\n",
    "    ml_client = MLClient.from_config(credential=DefaultAzureCredential())\n",
    "except Exception as ex:\n",
    "    # NOTE: Update following workspace information to contain\n",
    "    #       your subscription ID, resource group name, and workspace name\n",
    "    client_config = {\n",
    "        \"subscription_id\": \"0f644ff4-434a-4446-a414-16ddb2b713ee\",\n",
    "        \"resource_group\": \"rg-AIML\",\n",
    "        \"workspace_name\": \"ws-azureml\"\n",
    "    }\n",
    "\n",
    "    # write and reload from config file\n",
    "    import json, os\n",
    "\n",
    "    config_path = \"../.azuremlbatch/config.json\"\n",
    "    os.makedirs(os.path.dirname(config_path), exist_ok=True)\n",
    "    with open(config_path, \"w\") as fo:\n",
    "        fo.write(json.dumps(client_config))\n",
    "    ml_client = MLClient.from_config(credential=DefaultAzureCredential(), path=config_path)\n",
    "\n",
    "print(ml_client)"
   ]
  },
  {
   "cell_type": "code",
   "execution_count": 6,
   "metadata": {},
   "outputs": [
    {
     "name": "stderr",
     "output_type": "stream",
     "text": [
      "DefaultAzureCredential failed to retrieve a token from the included credentials.\n",
      "Attempted credentials:\n",
      "\tEnvironmentCredential: EnvironmentCredential authentication unavailable. Environment variables are not fully configured.\n",
      "Visit https://aka.ms/azsdk/python/identity/environmentcredential/troubleshoot to troubleshoot.this issue.\n",
      "\tManagedIdentityCredential: ManagedIdentityCredential authentication unavailable, no response from the IMDS endpoint.\n",
      "\tSharedTokenCacheCredential: Azure Active Directory error '(invalid_grant) AADSTS50173: The provided grant has expired due to it being revoked, a fresh auth token is needed. The user might have changed or reset their password. The grant was issued on '2023-03-21T12:40:16.8030000Z' and the TokensValidFrom date (before which tokens are not valid) for this user is '2023-04-03T04:43:55.0000000Z'.\n",
      "Trace ID: b71537fd-842f-4080-bd33-8302c51c5000\n",
      "Correlation ID: 057877a3-2f79-4af2-ba8c-f9bd5beccf1f\n",
      "Timestamp: 2023-05-02 06:36:32Z'\n",
      "Content: {\"error\":\"invalid_grant\",\"error_description\":\"AADSTS50173: The provided grant has expired due to it being revoked, a fresh auth token is needed. The user might have changed or reset their password. The grant was issued on '2023-03-21T12:40:16.8030000Z' and the TokensValidFrom date (before which tokens are not valid) for this user is '2023-04-03T04:43:55.0000000Z'.\\r\\nTrace ID: b71537fd-842f-4080-bd33-8302c51c5000\\r\\nCorrelation ID: 057877a3-2f79-4af2-ba8c-f9bd5beccf1f\\r\\nTimestamp: 2023-05-02 06:36:32Z\",\"error_codes\":[50173],\"timestamp\":\"2023-05-02 06:36:32Z\",\"trace_id\":\"b71537fd-842f-4080-bd33-8302c51c5000\",\"correlation_id\":\"057877a3-2f79-4af2-ba8c-f9bd5beccf1f\",\"error_uri\":\"https://login.microsoftonline.com/error?code=50173\"}\n",
      "To mitigate this issue, please refer to the troubleshooting guidelines here at https://aka.ms/azsdk/python/identity/defaultazurecredential/troubleshoot.\n"
     ]
    },
    {
     "ename": "ClientAuthenticationError",
     "evalue": "DefaultAzureCredential failed to retrieve a token from the included credentials.\nAttempted credentials:\n\tEnvironmentCredential: EnvironmentCredential authentication unavailable. Environment variables are not fully configured.\nVisit https://aka.ms/azsdk/python/identity/environmentcredential/troubleshoot to troubleshoot.this issue.\n\tManagedIdentityCredential: ManagedIdentityCredential authentication unavailable, no response from the IMDS endpoint.\n\tSharedTokenCacheCredential: Azure Active Directory error '(invalid_grant) AADSTS50173: The provided grant has expired due to it being revoked, a fresh auth token is needed. The user might have changed or reset their password. The grant was issued on '2023-03-21T12:40:16.8030000Z' and the TokensValidFrom date (before which tokens are not valid) for this user is '2023-04-03T04:43:55.0000000Z'.\r\nTrace ID: b71537fd-842f-4080-bd33-8302c51c5000\r\nCorrelation ID: 057877a3-2f79-4af2-ba8c-f9bd5beccf1f\r\nTimestamp: 2023-05-02 06:36:32Z'\nContent: {\"error\":\"invalid_grant\",\"error_description\":\"AADSTS50173: The provided grant has expired due to it being revoked, a fresh auth token is needed. The user might have changed or reset their password. The grant was issued on '2023-03-21T12:40:16.8030000Z' and the TokensValidFrom date (before which tokens are not valid) for this user is '2023-04-03T04:43:55.0000000Z'.\\r\\nTrace ID: b71537fd-842f-4080-bd33-8302c51c5000\\r\\nCorrelation ID: 057877a3-2f79-4af2-ba8c-f9bd5beccf1f\\r\\nTimestamp: 2023-05-02 06:36:32Z\",\"error_codes\":[50173],\"timestamp\":\"2023-05-02 06:36:32Z\",\"trace_id\":\"b71537fd-842f-4080-bd33-8302c51c5000\",\"correlation_id\":\"057877a3-2f79-4af2-ba8c-f9bd5beccf1f\",\"error_uri\":\"https://login.microsoftonline.com/error?code=50173\"}\nTo mitigate this issue, please refer to the troubleshooting guidelines here at https://aka.ms/azsdk/python/identity/defaultazurecredential/troubleshoot.",
     "output_type": "error",
     "traceback": [
      "\u001b[1;31m---------------------------------------------------------------------------\u001b[0m",
      "\u001b[1;31mClientAuthenticationError\u001b[0m                 Traceback (most recent call last)",
      "Cell \u001b[1;32mIn[6], line 1\u001b[0m\n\u001b[1;32m----> 1\u001b[0m compute \u001b[39m=\u001b[39m [i \u001b[39mfor\u001b[39;00m i \u001b[39min\u001b[39;00m ml_client\u001b[39m.\u001b[39mcompute\u001b[39m.\u001b[39mlist()]\n\u001b[0;32m      2\u001b[0m \u001b[39mprint\u001b[39m(compute)\n",
      "Cell \u001b[1;32mIn[6], line 1\u001b[0m, in \u001b[0;36m<listcomp>\u001b[1;34m(.0)\u001b[0m\n\u001b[1;32m----> 1\u001b[0m compute \u001b[39m=\u001b[39m [i \u001b[39mfor\u001b[39;00m i \u001b[39min\u001b[39;00m ml_client\u001b[39m.\u001b[39mcompute\u001b[39m.\u001b[39mlist()]\n\u001b[0;32m      2\u001b[0m \u001b[39mprint\u001b[39m(compute)\n",
      "File \u001b[1;32mc:\\Users\\1000059312\\Python\\Miniconda3\\envs\\azure-ml\\lib\\site-packages\\azure\\core\\paging.py:132\u001b[0m, in \u001b[0;36mItemPaged.__next__\u001b[1;34m(self)\u001b[0m\n\u001b[0;32m    130\u001b[0m \u001b[39mif\u001b[39;00m \u001b[39mself\u001b[39m\u001b[39m.\u001b[39m_page_iterator \u001b[39mis\u001b[39;00m \u001b[39mNone\u001b[39;00m:\n\u001b[0;32m    131\u001b[0m     \u001b[39mself\u001b[39m\u001b[39m.\u001b[39m_page_iterator \u001b[39m=\u001b[39m itertools\u001b[39m.\u001b[39mchain\u001b[39m.\u001b[39mfrom_iterable(\u001b[39mself\u001b[39m\u001b[39m.\u001b[39mby_page())\n\u001b[1;32m--> 132\u001b[0m \u001b[39mreturn\u001b[39;00m \u001b[39mnext\u001b[39;49m(\u001b[39mself\u001b[39;49m\u001b[39m.\u001b[39;49m_page_iterator)\n",
      "File \u001b[1;32mc:\\Users\\1000059312\\Python\\Miniconda3\\envs\\azure-ml\\lib\\site-packages\\azure\\core\\paging.py:76\u001b[0m, in \u001b[0;36mPageIterator.__next__\u001b[1;34m(self)\u001b[0m\n\u001b[0;32m     74\u001b[0m     \u001b[39mraise\u001b[39;00m \u001b[39mStopIteration\u001b[39;00m(\u001b[39m\"\u001b[39m\u001b[39mEnd of paging\u001b[39m\u001b[39m\"\u001b[39m)\n\u001b[0;32m     75\u001b[0m \u001b[39mtry\u001b[39;00m:\n\u001b[1;32m---> 76\u001b[0m     \u001b[39mself\u001b[39m\u001b[39m.\u001b[39m_response \u001b[39m=\u001b[39m \u001b[39mself\u001b[39;49m\u001b[39m.\u001b[39;49m_get_next(\u001b[39mself\u001b[39;49m\u001b[39m.\u001b[39;49mcontinuation_token)\n\u001b[0;32m     77\u001b[0m \u001b[39mexcept\u001b[39;00m AzureError \u001b[39mas\u001b[39;00m error:\n\u001b[0;32m     78\u001b[0m     \u001b[39mif\u001b[39;00m \u001b[39mnot\u001b[39;00m error\u001b[39m.\u001b[39mcontinuation_token:\n",
      "File \u001b[1;32mc:\\Users\\1000059312\\Python\\Miniconda3\\envs\\azure-ml\\lib\\site-packages\\azure\\ai\\ml\\_restclient\\v2022_10_01_preview\\operations\\_compute_operations.py:611\u001b[0m, in \u001b[0;36mComputeOperations.list.<locals>.get_next\u001b[1;34m(next_link)\u001b[0m\n\u001b[0;32m    608\u001b[0m \u001b[39mdef\u001b[39;00m \u001b[39mget_next\u001b[39m(next_link\u001b[39m=\u001b[39m\u001b[39mNone\u001b[39;00m):\n\u001b[0;32m    609\u001b[0m     request \u001b[39m=\u001b[39m prepare_request(next_link)\n\u001b[1;32m--> 611\u001b[0m     pipeline_response \u001b[39m=\u001b[39m \u001b[39mself\u001b[39m\u001b[39m.\u001b[39m_client\u001b[39m.\u001b[39m_pipeline\u001b[39m.\u001b[39mrun(  \u001b[39m# pylint: disable=protected-access\u001b[39;00m\n\u001b[0;32m    612\u001b[0m         request,\n\u001b[0;32m    613\u001b[0m         stream\u001b[39m=\u001b[39m\u001b[39mFalse\u001b[39;00m,\n\u001b[0;32m    614\u001b[0m         \u001b[39m*\u001b[39m\u001b[39m*\u001b[39mkwargs\n\u001b[0;32m    615\u001b[0m     )\n\u001b[0;32m    616\u001b[0m     response \u001b[39m=\u001b[39m pipeline_response\u001b[39m.\u001b[39mhttp_response\n\u001b[0;32m    618\u001b[0m     \u001b[39mif\u001b[39;00m response\u001b[39m.\u001b[39mstatus_code \u001b[39mnot\u001b[39;00m \u001b[39min\u001b[39;00m [\u001b[39m200\u001b[39m]:\n",
      "File \u001b[1;32mc:\\Users\\1000059312\\Python\\Miniconda3\\envs\\azure-ml\\lib\\site-packages\\azure\\core\\pipeline\\_base.py:205\u001b[0m, in \u001b[0;36mPipeline.run\u001b[1;34m(self, request, **kwargs)\u001b[0m\n\u001b[0;32m    197\u001b[0m pipeline_request: PipelineRequest[HTTPRequestType] \u001b[39m=\u001b[39m PipelineRequest(\n\u001b[0;32m    198\u001b[0m     request, context\n\u001b[0;32m    199\u001b[0m )\n\u001b[0;32m    200\u001b[0m first_node \u001b[39m=\u001b[39m (\n\u001b[0;32m    201\u001b[0m     \u001b[39mself\u001b[39m\u001b[39m.\u001b[39m_impl_policies[\u001b[39m0\u001b[39m]\n\u001b[0;32m    202\u001b[0m     \u001b[39mif\u001b[39;00m \u001b[39mself\u001b[39m\u001b[39m.\u001b[39m_impl_policies\n\u001b[0;32m    203\u001b[0m     \u001b[39melse\u001b[39;00m _TransportRunner(\u001b[39mself\u001b[39m\u001b[39m.\u001b[39m_transport)\n\u001b[0;32m    204\u001b[0m )\n\u001b[1;32m--> 205\u001b[0m \u001b[39mreturn\u001b[39;00m first_node\u001b[39m.\u001b[39;49msend(pipeline_request)\n",
      "File \u001b[1;32mc:\\Users\\1000059312\\Python\\Miniconda3\\envs\\azure-ml\\lib\\site-packages\\azure\\core\\pipeline\\_base.py:69\u001b[0m, in \u001b[0;36m_SansIOHTTPPolicyRunner.send\u001b[1;34m(self, request)\u001b[0m\n\u001b[0;32m     67\u001b[0m _await_result(\u001b[39mself\u001b[39m\u001b[39m.\u001b[39m_policy\u001b[39m.\u001b[39mon_request, request)\n\u001b[0;32m     68\u001b[0m \u001b[39mtry\u001b[39;00m:\n\u001b[1;32m---> 69\u001b[0m     response \u001b[39m=\u001b[39m \u001b[39mself\u001b[39;49m\u001b[39m.\u001b[39;49mnext\u001b[39m.\u001b[39;49msend(request)\n\u001b[0;32m     70\u001b[0m \u001b[39mexcept\u001b[39;00m \u001b[39mException\u001b[39;00m:  \u001b[39m# pylint: disable=broad-except\u001b[39;00m\n\u001b[0;32m     71\u001b[0m     _await_result(\u001b[39mself\u001b[39m\u001b[39m.\u001b[39m_policy\u001b[39m.\u001b[39mon_exception, request)\n",
      "File \u001b[1;32mc:\\Users\\1000059312\\Python\\Miniconda3\\envs\\azure-ml\\lib\\site-packages\\azure\\core\\pipeline\\_base.py:69\u001b[0m, in \u001b[0;36m_SansIOHTTPPolicyRunner.send\u001b[1;34m(self, request)\u001b[0m\n\u001b[0;32m     67\u001b[0m _await_result(\u001b[39mself\u001b[39m\u001b[39m.\u001b[39m_policy\u001b[39m.\u001b[39mon_request, request)\n\u001b[0;32m     68\u001b[0m \u001b[39mtry\u001b[39;00m:\n\u001b[1;32m---> 69\u001b[0m     response \u001b[39m=\u001b[39m \u001b[39mself\u001b[39;49m\u001b[39m.\u001b[39;49mnext\u001b[39m.\u001b[39;49msend(request)\n\u001b[0;32m     70\u001b[0m \u001b[39mexcept\u001b[39;00m \u001b[39mException\u001b[39;00m:  \u001b[39m# pylint: disable=broad-except\u001b[39;00m\n\u001b[0;32m     71\u001b[0m     _await_result(\u001b[39mself\u001b[39m\u001b[39m.\u001b[39m_policy\u001b[39m.\u001b[39mon_exception, request)\n",
      "    \u001b[1;31m[... skipping similar frames: _SansIOHTTPPolicyRunner.send at line 69 (2 times)]\u001b[0m\n",
      "File \u001b[1;32mc:\\Users\\1000059312\\Python\\Miniconda3\\envs\\azure-ml\\lib\\site-packages\\azure\\core\\pipeline\\_base.py:69\u001b[0m, in \u001b[0;36m_SansIOHTTPPolicyRunner.send\u001b[1;34m(self, request)\u001b[0m\n\u001b[0;32m     67\u001b[0m _await_result(\u001b[39mself\u001b[39m\u001b[39m.\u001b[39m_policy\u001b[39m.\u001b[39mon_request, request)\n\u001b[0;32m     68\u001b[0m \u001b[39mtry\u001b[39;00m:\n\u001b[1;32m---> 69\u001b[0m     response \u001b[39m=\u001b[39m \u001b[39mself\u001b[39;49m\u001b[39m.\u001b[39;49mnext\u001b[39m.\u001b[39;49msend(request)\n\u001b[0;32m     70\u001b[0m \u001b[39mexcept\u001b[39;00m \u001b[39mException\u001b[39;00m:  \u001b[39m# pylint: disable=broad-except\u001b[39;00m\n\u001b[0;32m     71\u001b[0m     _await_result(\u001b[39mself\u001b[39m\u001b[39m.\u001b[39m_policy\u001b[39m.\u001b[39mon_exception, request)\n",
      "File \u001b[1;32mc:\\Users\\1000059312\\Python\\Miniconda3\\envs\\azure-ml\\lib\\site-packages\\azure\\mgmt\\core\\policies\\_base.py:47\u001b[0m, in \u001b[0;36mARMAutoResourceProviderRegistrationPolicy.send\u001b[1;34m(self, request)\u001b[0m\n\u001b[0;32m     44\u001b[0m \u001b[39mdef\u001b[39;00m \u001b[39msend\u001b[39m(\u001b[39mself\u001b[39m, request):\n\u001b[0;32m     45\u001b[0m     \u001b[39m# type: (PipelineRequest[HTTPRequestType], Any) -> PipelineResponse[HTTPRequestType, HTTPResponseType]\u001b[39;00m\n\u001b[0;32m     46\u001b[0m     http_request \u001b[39m=\u001b[39m request\u001b[39m.\u001b[39mhttp_request\n\u001b[1;32m---> 47\u001b[0m     response \u001b[39m=\u001b[39m \u001b[39mself\u001b[39;49m\u001b[39m.\u001b[39;49mnext\u001b[39m.\u001b[39;49msend(request)\n\u001b[0;32m     48\u001b[0m     \u001b[39mif\u001b[39;00m response\u001b[39m.\u001b[39mhttp_response\u001b[39m.\u001b[39mstatus_code \u001b[39m==\u001b[39m \u001b[39m409\u001b[39m:\n\u001b[0;32m     49\u001b[0m         rp_name \u001b[39m=\u001b[39m \u001b[39mself\u001b[39m\u001b[39m.\u001b[39m_check_rp_not_registered_err(response)\n",
      "File \u001b[1;32mc:\\Users\\1000059312\\Python\\Miniconda3\\envs\\azure-ml\\lib\\site-packages\\azure\\core\\pipeline\\policies\\_redirect.py:160\u001b[0m, in \u001b[0;36mRedirectPolicy.send\u001b[1;34m(self, request)\u001b[0m\n\u001b[0;32m    158\u001b[0m redirect_settings \u001b[39m=\u001b[39m \u001b[39mself\u001b[39m\u001b[39m.\u001b[39mconfigure_redirects(request\u001b[39m.\u001b[39mcontext\u001b[39m.\u001b[39moptions)\n\u001b[0;32m    159\u001b[0m \u001b[39mwhile\u001b[39;00m retryable:\n\u001b[1;32m--> 160\u001b[0m     response \u001b[39m=\u001b[39m \u001b[39mself\u001b[39;49m\u001b[39m.\u001b[39;49mnext\u001b[39m.\u001b[39;49msend(request)\n\u001b[0;32m    161\u001b[0m     redirect_location \u001b[39m=\u001b[39m \u001b[39mself\u001b[39m\u001b[39m.\u001b[39mget_redirect_location(response)\n\u001b[0;32m    162\u001b[0m     \u001b[39mif\u001b[39;00m redirect_location \u001b[39mand\u001b[39;00m redirect_settings[\u001b[39m\"\u001b[39m\u001b[39mallow\u001b[39m\u001b[39m\"\u001b[39m]:\n",
      "File \u001b[1;32mc:\\Users\\1000059312\\Python\\Miniconda3\\envs\\azure-ml\\lib\\site-packages\\azure\\core\\pipeline\\policies\\_retry.py:474\u001b[0m, in \u001b[0;36mRetryPolicy.send\u001b[1;34m(self, request)\u001b[0m\n\u001b[0;32m    472\u001b[0m start_time \u001b[39m=\u001b[39m time\u001b[39m.\u001b[39mtime()\n\u001b[0;32m    473\u001b[0m \u001b[39mself\u001b[39m\u001b[39m.\u001b[39m_configure_timeout(request, absolute_timeout, is_response_error)\n\u001b[1;32m--> 474\u001b[0m response \u001b[39m=\u001b[39m \u001b[39mself\u001b[39;49m\u001b[39m.\u001b[39;49mnext\u001b[39m.\u001b[39;49msend(request)\n\u001b[0;32m    475\u001b[0m \u001b[39mif\u001b[39;00m \u001b[39mself\u001b[39m\u001b[39m.\u001b[39mis_retry(retry_settings, response):\n\u001b[0;32m    476\u001b[0m     retry_active \u001b[39m=\u001b[39m \u001b[39mself\u001b[39m\u001b[39m.\u001b[39mincrement(retry_settings, response\u001b[39m=\u001b[39mresponse)\n",
      "File \u001b[1;32mc:\\Users\\1000059312\\Python\\Miniconda3\\envs\\azure-ml\\lib\\site-packages\\azure\\core\\pipeline\\policies\\_authentication.py:115\u001b[0m, in \u001b[0;36mBearerTokenCredentialPolicy.send\u001b[1;34m(self, request)\u001b[0m\n\u001b[0;32m    109\u001b[0m \u001b[39mdef\u001b[39;00m \u001b[39msend\u001b[39m(\u001b[39mself\u001b[39m, request: \u001b[39m\"\u001b[39m\u001b[39mPipelineRequest\u001b[39m\u001b[39m\"\u001b[39m) \u001b[39m-\u001b[39m\u001b[39m>\u001b[39m \u001b[39m\"\u001b[39m\u001b[39mPipelineResponse\u001b[39m\u001b[39m\"\u001b[39m:\n\u001b[0;32m    110\u001b[0m \u001b[39m    \u001b[39m\u001b[39m\"\"\"Authorize request with a bearer token and send it to the next policy\u001b[39;00m\n\u001b[0;32m    111\u001b[0m \n\u001b[0;32m    112\u001b[0m \u001b[39m    :param request: The pipeline request object\u001b[39;00m\n\u001b[0;32m    113\u001b[0m \u001b[39m    :type request: ~azure.core.pipeline.PipelineRequest\u001b[39;00m\n\u001b[0;32m    114\u001b[0m \u001b[39m    \"\"\"\u001b[39;00m\n\u001b[1;32m--> 115\u001b[0m     \u001b[39mself\u001b[39;49m\u001b[39m.\u001b[39;49mon_request(request)\n\u001b[0;32m    116\u001b[0m     \u001b[39mtry\u001b[39;00m:\n\u001b[0;32m    117\u001b[0m         response \u001b[39m=\u001b[39m \u001b[39mself\u001b[39m\u001b[39m.\u001b[39mnext\u001b[39m.\u001b[39msend(request)\n",
      "File \u001b[1;32mc:\\Users\\1000059312\\Python\\Miniconda3\\envs\\azure-ml\\lib\\site-packages\\azure\\core\\pipeline\\policies\\_authentication.py:92\u001b[0m, in \u001b[0;36mBearerTokenCredentialPolicy.on_request\u001b[1;34m(self, request)\u001b[0m\n\u001b[0;32m     89\u001b[0m \u001b[39mself\u001b[39m\u001b[39m.\u001b[39m_enforce_https(request)\n\u001b[0;32m     91\u001b[0m \u001b[39mif\u001b[39;00m \u001b[39mself\u001b[39m\u001b[39m.\u001b[39m_token \u001b[39mis\u001b[39;00m \u001b[39mNone\u001b[39;00m \u001b[39mor\u001b[39;00m \u001b[39mself\u001b[39m\u001b[39m.\u001b[39m_need_new_token:\n\u001b[1;32m---> 92\u001b[0m     \u001b[39mself\u001b[39m\u001b[39m.\u001b[39m_token \u001b[39m=\u001b[39m \u001b[39mself\u001b[39;49m\u001b[39m.\u001b[39;49m_credential\u001b[39m.\u001b[39;49mget_token(\u001b[39m*\u001b[39;49m\u001b[39mself\u001b[39;49m\u001b[39m.\u001b[39;49m_scopes)\n\u001b[0;32m     93\u001b[0m \u001b[39mself\u001b[39m\u001b[39m.\u001b[39m_update_headers(request\u001b[39m.\u001b[39mhttp_request\u001b[39m.\u001b[39mheaders, \u001b[39mself\u001b[39m\u001b[39m.\u001b[39m_token\u001b[39m.\u001b[39mtoken)\n",
      "File \u001b[1;32mc:\\Users\\1000059312\\Python\\Miniconda3\\envs\\azure-ml\\lib\\site-packages\\azure\\identity\\_credentials\\default.py:168\u001b[0m, in \u001b[0;36mDefaultAzureCredential.get_token\u001b[1;34m(self, *scopes, **kwargs)\u001b[0m\n\u001b[0;32m    163\u001b[0m     _LOGGER\u001b[39m.\u001b[39minfo(\n\u001b[0;32m    164\u001b[0m         \u001b[39m\"\u001b[39m\u001b[39m%s\u001b[39;00m\u001b[39m acquired a token from \u001b[39m\u001b[39m%s\u001b[39;00m\u001b[39m\"\u001b[39m, \u001b[39mself\u001b[39m\u001b[39m.\u001b[39m\u001b[39m__class__\u001b[39m\u001b[39m.\u001b[39m\u001b[39m__name__\u001b[39m, \u001b[39mself\u001b[39m\u001b[39m.\u001b[39m_successful_credential\u001b[39m.\u001b[39m\u001b[39m__class__\u001b[39m\u001b[39m.\u001b[39m\u001b[39m__name__\u001b[39m\n\u001b[0;32m    165\u001b[0m     )\n\u001b[0;32m    166\u001b[0m     \u001b[39mreturn\u001b[39;00m token\n\u001b[1;32m--> 168\u001b[0m \u001b[39mreturn\u001b[39;00m \u001b[39msuper\u001b[39m(DefaultAzureCredential, \u001b[39mself\u001b[39m)\u001b[39m.\u001b[39mget_token(\u001b[39m*\u001b[39mscopes, \u001b[39m*\u001b[39m\u001b[39m*\u001b[39mkwargs)\n",
      "File \u001b[1;32mc:\\Users\\1000059312\\Python\\Miniconda3\\envs\\azure-ml\\lib\\site-packages\\azure\\identity\\_credentials\\chained.py:101\u001b[0m, in \u001b[0;36mChainedTokenCredential.get_token\u001b[1;34m(self, *scopes, **kwargs)\u001b[0m\n\u001b[0;32m     97\u001b[0m message \u001b[39m=\u001b[39m \u001b[39mself\u001b[39m\u001b[39m.\u001b[39m\u001b[39m__class__\u001b[39m\u001b[39m.\u001b[39m\u001b[39m__name__\u001b[39m \u001b[39m+\u001b[39m \u001b[39m\"\u001b[39m\u001b[39m failed to retrieve a token from the included credentials.\u001b[39m\u001b[39m\"\u001b[39m \u001b[39m+\u001b[39m attempts \\\n\u001b[0;32m     98\u001b[0m           \u001b[39m+\u001b[39m \u001b[39m\"\u001b[39m\u001b[39m\\n\u001b[39;00m\u001b[39mTo mitigate this issue, please refer to the troubleshooting guidelines here at \u001b[39m\u001b[39m\"\u001b[39m \\\n\u001b[0;32m     99\u001b[0m             \u001b[39m\"\u001b[39m\u001b[39mhttps://aka.ms/azsdk/python/identity/defaultazurecredential/troubleshoot.\u001b[39m\u001b[39m\"\u001b[39m\n\u001b[0;32m    100\u001b[0m _LOGGER\u001b[39m.\u001b[39mwarning(message)\n\u001b[1;32m--> 101\u001b[0m \u001b[39mraise\u001b[39;00m ClientAuthenticationError(message\u001b[39m=\u001b[39mmessage)\n",
      "\u001b[1;31mClientAuthenticationError\u001b[0m: DefaultAzureCredential failed to retrieve a token from the included credentials.\nAttempted credentials:\n\tEnvironmentCredential: EnvironmentCredential authentication unavailable. Environment variables are not fully configured.\nVisit https://aka.ms/azsdk/python/identity/environmentcredential/troubleshoot to troubleshoot.this issue.\n\tManagedIdentityCredential: ManagedIdentityCredential authentication unavailable, no response from the IMDS endpoint.\n\tSharedTokenCacheCredential: Azure Active Directory error '(invalid_grant) AADSTS50173: The provided grant has expired due to it being revoked, a fresh auth token is needed. The user might have changed or reset their password. The grant was issued on '2023-03-21T12:40:16.8030000Z' and the TokensValidFrom date (before which tokens are not valid) for this user is '2023-04-03T04:43:55.0000000Z'.\r\nTrace ID: b71537fd-842f-4080-bd33-8302c51c5000\r\nCorrelation ID: 057877a3-2f79-4af2-ba8c-f9bd5beccf1f\r\nTimestamp: 2023-05-02 06:36:32Z'\nContent: {\"error\":\"invalid_grant\",\"error_description\":\"AADSTS50173: The provided grant has expired due to it being revoked, a fresh auth token is needed. The user might have changed or reset their password. The grant was issued on '2023-03-21T12:40:16.8030000Z' and the TokensValidFrom date (before which tokens are not valid) for this user is '2023-04-03T04:43:55.0000000Z'.\\r\\nTrace ID: b71537fd-842f-4080-bd33-8302c51c5000\\r\\nCorrelation ID: 057877a3-2f79-4af2-ba8c-f9bd5beccf1f\\r\\nTimestamp: 2023-05-02 06:36:32Z\",\"error_codes\":[50173],\"timestamp\":\"2023-05-02 06:36:32Z\",\"trace_id\":\"b71537fd-842f-4080-bd33-8302c51c5000\",\"correlation_id\":\"057877a3-2f79-4af2-ba8c-f9bd5beccf1f\",\"error_uri\":\"https://login.microsoftonline.com/error?code=50173\"}\nTo mitigate this issue, please refer to the troubleshooting guidelines here at https://aka.ms/azsdk/python/identity/defaultazurecredential/troubleshoot."
     ]
    }
   ],
   "source": [
    "compute = [i for i in ml_client.compute.list()]\n",
    "print(compute)"
   ]
  },
  {
   "cell_type": "code",
   "execution_count": null,
   "metadata": {},
   "outputs": [],
   "source": [
    "deployment_name = \"buf-model-1\"\n",
    "endpoint_name = \"https://buf-batch-job.centralindia.inference.ml.azure.com/jobs\"\n",
    "\n",
    "ml_client.batch_deployments.get(name=deployment_name, endpoint_name=\"buf-batch-job\")"
   ]
  },
  {
   "cell_type": "code",
   "execution_count": null,
   "metadata": {},
   "outputs": [],
   "source": []
  },
  {
   "cell_type": "code",
   "execution_count": null,
   "metadata": {},
   "outputs": [],
   "source": []
  },
  {
   "cell_type": "code",
   "execution_count": null,
   "metadata": {},
   "outputs": [],
   "source": [
    "ws = Workspace.get(subscription_id='0f644ff4-434a-4446-a414-16ddb2b713ee',\n",
    "                    resource_group='rg-AIML',\n",
    "                    name='ws-azureml')\n",
    "print('\\nCompute Targets:')\n",
    "if ws.compute_targets != {} or len(ws.compute_targets) != 0:\n",
    "    for compute_name in ws.compute_targets:\n",
    "        compute = ws.compute_targets[compute_name]\n",
    "        # compute = ComputeTarget._get(ws, compute_name)\n",
    "        print(\"\\t\",compute.name, \":\", compute.type)\n",
    "else:\n",
    "    print(\"\\tNone\")"
   ]
  },
  {
   "cell_type": "code",
   "execution_count": null,
   "metadata": {},
   "outputs": [],
   "source": [
    "##################################################\n",
    "##\n",
    "##      CHATGPT Code                           ##\n",
    "##\n",
    "##################################################\n",
    "# Load workspace configuration from the config.json file in the current folder.\n",
    "ws = Workspace.from_config()\n",
    "\n",
    "# Get the batch endpoint by name\n",
    "batch_endpoint = BatchEndpoint.get(ws, \"my-batch-endpoint\")\n",
    "\n",
    "# Submit a batch job\n",
    "job = batch_endpoint.submit_job(\n",
    "input_data=\"https://myaccount.blob.core.windows.net/mycontainer/myinputdata.csv\",\n",
    "output_data=\"https://myaccount.blob.core.windows.net/mycontainer/myoutputdata.csv\"\n",
    ")\n",
    "\n",
    "# Wait for the job to complete\n",
    "job.wait_for_completion(show_output=True)"
   ]
  },
  {
   "cell_type": "code",
   "execution_count": null,
   "metadata": {},
   "outputs": [],
   "source": []
  },
  {
   "cell_type": "code",
   "execution_count": null,
   "metadata": {},
   "outputs": [],
   "source": []
  },
  {
   "cell_type": "code",
   "execution_count": null,
   "metadata": {},
   "outputs": [],
   "source": []
  },
  {
   "cell_type": "code",
   "execution_count": null,
   "metadata": {},
   "outputs": [],
   "source": []
  },
  {
   "cell_type": "code",
   "execution_count": null,
   "metadata": {},
   "outputs": [],
   "source": []
  },
  {
   "cell_type": "code",
   "execution_count": null,
   "metadata": {},
   "outputs": [],
   "source": []
  },
  {
   "cell_type": "code",
   "execution_count": null,
   "metadata": {},
   "outputs": [],
   "source": []
  }
 ],
 "metadata": {
  "kernelspec": {
   "display_name": "azure-ml",
   "language": "python",
   "name": "python3"
  },
  "language_info": {
   "codemirror_mode": {
    "name": "ipython",
    "version": 3
   },
   "file_extension": ".py",
   "mimetype": "text/x-python",
   "name": "python",
   "nbconvert_exporter": "python",
   "pygments_lexer": "ipython3",
   "version": "3.10.9"
  },
  "orig_nbformat": 4
 },
 "nbformat": 4,
 "nbformat_minor": 2
}
